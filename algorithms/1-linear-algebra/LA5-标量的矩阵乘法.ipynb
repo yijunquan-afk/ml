{
 "cells": [
  {
   "cell_type": "markdown",
   "metadata": {},
   "source": [
    "## 描述\n",
    "实现一个函数，计算矩阵与标量的乘法运算。该函数接收一个二维数组（矩阵）和一个标量值作为输入，返回乘法运算后的新矩阵。\n",
    "\n",
    "## 输入描述：\n",
    "输入包含两行：\n",
    "1. 第一行为一个二维数组（矩阵），数组中的元素可以是整数或浮点数\n",
    "2. 第二行为一个标量值，可以是整数或浮点数\n",
    "\n",
    "## 输出描述：\n",
    "返回一个二维数组，表示矩阵与标量相乘的结果。结果矩阵的维度与输入矩阵相同，每个元素都是输入矩阵对应位置的元素与标量的乘积。\n",
    "\n",
    "## 示例1\n",
    "\n",
    "输入：\n",
    "```\n",
    "[[1, 2], [3, 4]]\n",
    "2.0\n",
    "```\n",
    "输出：\n",
    "```\n",
    "[[2.0, 4.0], [6.0, 8.0]]\n",
    "```\n",
    "\n",
    "## 示例2\n",
    "\n",
    "输入：\n",
    "```\n",
    "[[1.5, 2.5], [3.5, 4.5]]\n",
    "-1.0\n",
    "```\n",
    "输出：\n",
    "```\n",
    "[[-1.5, -2.5], [-3.5, -4.5]]\n",
    "```"
   ]
  },
  {
   "cell_type": "code",
   "execution_count": null,
   "metadata": {},
   "outputs": [],
   "source": [
    "from typing import List, Union\n",
    "\n",
    "def scalar_multiply(matrix: List[List[Union[int, float]]], scalar: Union[int, float]) -> List[List[Union[int, float]]]:\n",
    "    # import numpy as np\n",
    "    # return (np.array(matrix) * scalar).tolist()\n",
    "    return [[item * scalar for item in sublist] for sublist in matrix]\n",
    "\n",
    "def main():\n",
    "    matrix = eval(input())\n",
    "    scalar = float(input())\n",
    "    result = scalar_multiply(matrix, scalar)\n",
    "    print(result)\n",
    "\n",
    "if __name__ == \"__main__\":\n",
    "    main()"
   ]
  }
 ],
 "metadata": {
  "kernelspec": {
   "display_name": "tx-rca",
   "language": "python",
   "name": "python3"
  },
  "language_info": {
   "name": "python",
   "version": "3.10.14"
  }
 },
 "nbformat": 4,
 "nbformat_minor": 2
}
