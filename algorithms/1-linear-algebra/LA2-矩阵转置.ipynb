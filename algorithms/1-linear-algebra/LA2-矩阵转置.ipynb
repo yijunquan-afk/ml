{
 "cells": [
  {
   "cell_type": "markdown",
   "metadata": {},
   "source": [
    "# LA2-矩阵转置\n",
    "\n",
    "## 描述\n",
    "\n",
    "给定一个 $n \\times m$ 的矩阵，请将其转置。转置是指将矩阵的行和列互换，即原矩阵中第 $i$ 行第 $j$ 列的元素在转置后变为第 $j$ 行第 $i$ 列的元素。\n",
    "\n",
    "## 输入描述：\n",
    "\n",
    "输入为一个二维数组，表示一个 $n \\times m$ 的矩阵，矩阵中的元素为整数。\n",
    "\n",
    "## 输出描述：\n",
    "\n",
    "输出转置后的矩阵，以与输入相同的格式表示。转置后的矩阵大小为 $m \\times n$。\n",
    "\n",
    "\n",
    "## 示例1\n",
    "输入\n",
    "```\n",
    "[[1,3,5],[6,8,10]]\n",
    "```\n",
    "输出\n",
    "```\n",
    "[[1,6],[3,8],[5,10]]\n",
    "```"
   ]
  },
  {
   "cell_type": "code",
   "execution_count": null,
   "metadata": {},
   "outputs": [],
   "source": [
    "from typing import List, Union\n",
    "import numpy as np\n",
    "# 使用 Union 来表示类型可以是 int 或 float\n",
    "def transpose_matrix(a: List[List[Union[int, float]]]) -> List[List[Union[int, float]]]:\n",
    "    row = len(a)\n",
    "    col = len(a[0])\n",
    "    transpose = [[0 for _ in range(row)] for _ in range(col)]\n",
    "    for i in range(row):\n",
    "        for j in range(col):\n",
    "            transpose[j][i] = a[i][j]\n",
    "    return transpose\n",
    "    \n",
    "    # arr = np.array(a)\n",
    "    # return arr.T.tolist()\n"
   ]
  },
  {
   "cell_type": "code",
   "execution_count": null,
   "metadata": {},
   "outputs": [],
   "source": [
    "\n",
    "# 处理输入输出\n",
    "def main():\n",
    "    try:\n",
    "        matrix_str = input().strip()\n",
    "        # 去掉最外层的方括号，并分割每个子数组\n",
    "        rows = matrix_str[2:-2].split('],[')\n",
    "        # 将每个子数组转换为数字列表\n",
    "        matrix = [list(map(int, row.split(','))) for row in rows]\n",
    "        \n",
    "        # 计算转置矩阵\n",
    "        result = transpose_matrix(matrix)\n",
    "        \n",
    "        # 格式化输出\n",
    "        print(str(result).replace(' ', ''))\n",
    "    except Exception as e:\n",
    "        print(f\"输入格式错误: {e}\")\n",
    "\n",
    "if __name__ == \"__main__\":\n",
    "    main()"
   ]
  },
  {
   "cell_type": "markdown",
   "metadata": {},
   "source": [
    "## 矩阵转置\n",
    "\n",
    "矩阵转置的公式是将原矩阵的行和列互换。如果有一个矩阵$A$ 的维度是$m \\times n$，那么它的转置矩阵$A^T$ 的维度就是$n \\times m$。具体来说，原矩阵$A$ 中第$i$ 行第$j$ 列的元素在转置矩阵$A^T$ 中会变成第$j$ 行第$i$ 列的元素。用公式表示就是：\n",
    "\n",
    "$$(A^T)_{ij} = A_{ji}$$\n",
    "\n",
    "下面是一个具体的例子，假设我们有一个$2 \\times 3$ 的矩阵$A$：\n",
    "\n",
    "$$A = \\begin{pmatrix} a & b & c \\\\ d & e & f \\end{pmatrix}$$\n",
    "\n",
    "那么它的转置矩阵$A^T$ 就是一个$3 \\times 2$ 的矩阵：\n",
    "\n",
    "$$A^T = \\begin{pmatrix} a & d \\\\ b & e \\\\ c & f \\end{pmatrix}$$\n",
    "\n",
    "矩阵转置的公式可以表示为：\n",
    "\n",
    "$$\n",
    "A^T = \\begin{pmatrix} A_{11} & A_{21} & \\cdots & A_{m1} \\\\ A_{12} & A_{22} & \\cdots & A_{m2} \\\\ \\vdots & \\vdots & \\ddots & \\vdots \\\\ A_{1n} & A_{2n} & \\cdots & A_{mn} \\end{pmatrix}\n",
    "$$"
   ]
  }
 ],
 "metadata": {
  "kernelspec": {
   "display_name": "tx-rca",
   "language": "python",
   "name": "python3"
  },
  "language_info": {
   "name": "python",
   "version": "3.10.14"
  }
 },
 "nbformat": 4,
 "nbformat_minor": 2
}
