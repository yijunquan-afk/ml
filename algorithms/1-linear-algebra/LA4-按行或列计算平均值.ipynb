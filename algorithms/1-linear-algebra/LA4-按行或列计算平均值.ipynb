{
 "cells": [
  {
   "cell_type": "markdown",
   "metadata": {},
   "source": [
    "# LA4 按行或列计算平均值\n",
    "## 描述\n",
    "实现一个函数，用于计算矩阵按行或按列的平均值。该函数接收一个二维数组（矩阵）和计算模式作为输入，返回对应的平均值列表。\n",
    "\n",
    "## 输入描述：\n",
    "输入包含两行：\n",
    "1. 第一行为一个二维数组（矩阵），数组中的元素可以是整数或浮点数\n",
    "2. 第二行为计算模式，字符串类型，值为 \"row\" 或 \"column\"\n",
    "- \"row\": 按行计算平均值\n",
    "- \"column\": 按列计算平均值\n",
    "\n",
    "## 输出描述：\n",
    "返回一个浮点数列表，表示按指定模式计算的平均值：\n",
    "- 如果模式为 \"row\"，返回每行的平均值\n",
    "- 如果模式为 \"column\"，返回每列的平均值\n",
    "\n",
    "# 示例1\n",
    "\n",
    "输入：\n",
    "```\n",
    "[[1, 2, 3], [4, 5, 6]]\n",
    "row\n",
    "```\n",
    "输出：\n",
    "```\n",
    "[2.0, 5.0]\n",
    "```\n",
    "说明：\n",
    "\n",
    "# 示例2\n",
    "\n",
    "输入：\n",
    "```\n",
    "[[1, 2, 3], [4, 5, 6]]\n",
    "column\n",
    "```\n",
    "输出：\n",
    "```\n",
    "[2.5, 3.5, 4.5]\n",
    "```"
   ]
  },
  {
   "cell_type": "code",
   "execution_count": 4,
   "metadata": {},
   "outputs": [
    {
     "name": "stdout",
     "output_type": "stream",
     "text": [
      "[2.0, 5.0]\n"
     ]
    }
   ],
   "source": [
    "from typing import List, Union\n",
    "import numpy as np\n",
    "def calculate_matrix_mean(matrix: List[List[Union[int, float]]], mode: str) -> List[float]:\n",
    "    if mode == 'column':\n",
    "        return  np.mean(np.array(matrix), axis=0).tolist()\n",
    "    else:\n",
    "        return np.mean(np.array(matrix), axis=1).tolist()\n",
    "\n",
    "    \n",
    "def main():\n",
    "    matrix = eval(input())\n",
    "    mode = input()\n",
    "    result = calculate_matrix_mean(matrix, mode)\n",
    "    print(result)\n",
    "\n",
    "if __name__ == \"__main__\":\n",
    "    main()"
   ]
  },
  {
   "cell_type": "markdown",
   "metadata": {},
   "source": [
    "通过前面的叙述，我们已经知道axis=0表示最高维，axis=1表示次高维，依次下去。因此，对于三维数组来说，axis=0指的就是最高维(三维)，axis=1指的就是次高维(二维)，那么axis=2指的就是最低维(一维)。\n",
    "\n",
    "当axis=0的时候，指的就是，最高维三维变化，其他维度不变化的数据会成为一组，因此x[0][0][0]、x[1][0][0]；x[0][1][0]、x[1][1][0]；x[0][0][1]、x[1][0][1]；x[0][1][1]、x[1][1][1]各自成为一组，你把这组内对应元素相加就是x.sum(axis=0)的答案了。\n",
    "\n",
    "当axis=1的时候，就是次高维二维变化，其他维度不变化，因此x[0][0][0]、x[0][1][0]；x[0][0]1]、x[0][1][1]；x[1][0][0]、x[1][1][0]；x[1][0][1]、x[1][1][1];各自成为一组，你把这组内对应元素相加就是x.sum(axis=1)的答案了。\n",
    "\n",
    "当axis=3的时候，最低维一维变化，其他维度不变化，因次x[0][0][0]、x[0][0][1]；x[0][1][0]、x[0][1][1]；x[1][0][0]、x[1][0][1]；x[1][1][0]、x[1][1][1];各自成为一组，你把这组内对应元素相加就是x.sum(axis=2)的答案了\n"
   ]
  },
  {
   "cell_type": "markdown",
   "metadata": {},
   "source": []
  }
 ],
 "metadata": {
  "kernelspec": {
   "display_name": "tx-rca",
   "language": "python",
   "name": "python3"
  },
  "language_info": {
   "codemirror_mode": {
    "name": "ipython",
    "version": 3
   },
   "file_extension": ".py",
   "mimetype": "text/x-python",
   "name": "python",
   "nbconvert_exporter": "python",
   "pygments_lexer": "ipython3",
   "version": "3.10.14"
  }
 },
 "nbformat": 4,
 "nbformat_minor": 2
}
