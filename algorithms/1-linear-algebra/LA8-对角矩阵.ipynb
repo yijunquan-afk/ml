{
 "cells": [
  {
   "cell_type": "code",
   "execution_count": null,
   "metadata": {},
   "outputs": [],
   "source": [
    "import numpy as np\n",
    "\n",
    "def make_diagonal(x):\n",
    "    return np.diag(np.array(x, dtype=np.float32))\n",
    "    # n = len(x)\n",
    "    # result = np.zeros((n,n), dtype=np.float32)\n",
    "    # for i in range(n):\n",
    "    #     result[i][i] = x[i]\n",
    "    # return result\n",
    "    \n",
    "    \n",
    "if __name__ == \"__main__\":\n",
    "    x = np.array(eval(input()))\n",
    "    print(make_diagonal(x))\n"
   ]
  }
 ],
 "metadata": {
  "language_info": {
   "name": "python"
  }
 },
 "nbformat": 4,
 "nbformat_minor": 2
}
