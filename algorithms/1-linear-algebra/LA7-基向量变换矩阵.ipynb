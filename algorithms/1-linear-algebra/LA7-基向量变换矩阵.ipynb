{
 "cells": [
  {
   "cell_type": "markdown",
   "metadata": {},
   "source": [
    "# LA7 基向量变换矩阵\n",
    "## 描述\n",
    "\n",
    "在线性代数中，同一个向量可以在不同的基下表示。给定 $\\mathbb{R}^3$ 空间中两组基向量 $B$ 和 $C$，实现一个函数来计算从基 $C$ 到基 $B$ 的变换矩阵 $P$。\n",
    "\n",
    "## 输入描述：\n",
    "\n",
    "函数 `transform_basis` 接收两个参数：\n",
    "1. $B$：$3 \\times 3$矩阵，表示第一组基向量（每列是一个基向量）\n",
    "2. $C$：$3 \\times 3$矩阵，表示第二组基向量（每列是一个基向量）\n",
    "\n",
    "## 输出描述：\n",
    "\n",
    "返回一个 $3 \\times 3$ 的矩阵 $P$。"
   ]
  },
  {
   "cell_type": "code",
   "execution_count": null,
   "metadata": {},
   "outputs": [],
   "source": [
    "import numpy as np\n",
    "\n",
    "\n",
    "def transform_basis(B, C):\n",
    "    \"\"\"\n",
    "    计算从基 C 到基 B 的变换矩阵 P。\n",
    "\n",
    "    参数:\n",
    "    B: 3x3 矩阵，表示第一组基向量\n",
    "    C: 3x3 矩阵，表示第二组基向量\n",
    "\n",
    "    返回:\n",
    "    P: 3x3 矩阵，从基 C 到基 B 的变换矩阵\n",
    "    \"\"\"\n",
    "    C_inv = np.linalg.inv(C)\n",
    "    P = C_inv @ B\n",
    "    return P.tolist()\n",
    "\n",
    "\n",
    "if __name__ == \"__main__\":\n",
    "    B = np.array(eval(input()))\n",
    "    C = np.array(eval(input()))\n",
    "    print(transform_basis(B, C))\n"
   ]
  }
 ],
 "metadata": {
  "language_info": {
   "name": "python"
  }
 },
 "nbformat": 4,
 "nbformat_minor": 2
}
