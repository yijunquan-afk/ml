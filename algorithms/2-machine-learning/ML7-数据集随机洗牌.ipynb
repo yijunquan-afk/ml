{
 "cells": [
  {
   "cell_type": "markdown",
   "metadata": {},
   "source": [
    "# ML7 数据集随机洗牌\n",
    "\n",
    "## 描述\n",
    "实现一个函数来对数据集进行随机洗牌。这在机器学习中是一个常见操作，用于打乱数据顺序以避免训练过程中的偏差。函数需要同时处理特征数据和标签数据，并保持它们之间的对应关系。\n",
    "\n",
    "## 输入描述：\n",
    "第一行输入特征数据X，第二行输入标签数据y。\n",
    "\n",
    "## 输出描述：\n",
    "返回一个元组，包含两个经过相同顺序随机打乱的数组：\n",
    "1. 第一个元素是打乱后的X\n",
    "2. 第二个元素是打乱后的y\n",
    "X与Y都为numpy数组。\n",
    "\n",
    "```\n",
    "输入：\n",
    "[[1, 2], [3, 4], [5, 6]]\n",
    "[0, 1, 2]\n",
    "\n",
    "输出：\n",
    "(array([[1, 2],\n",
    "       [3, 4],\n",
    "       [5, 6]]), array([0, 1, 2]))\n",
    "```"
   ]
  },
  {
   "cell_type": "code",
   "execution_count": null,
   "metadata": {},
   "outputs": [],
   "source": [
    "import numpy as np\n",
    "\n",
    "def shuffle_data(X, y, seed=None):\n",
    "    if seed:\n",
    "        np.random.seed(seed)\n",
    "    idx = np.arange(X.shape[0])\n",
    "    np.random.shuffle(idx)\n",
    "    return X[idx], y[idx]\n",
    "    \n",
    "    \n",
    "if __name__ == \"__main__\":\n",
    "    X = np.array(eval(input()))\n",
    "    y = np.array(eval(input()))\n",
    "    print(shuffle_data(X, y, 42))\n"
   ]
  }
 ],
 "metadata": {
  "language_info": {
   "name": "python"
  }
 },
 "nbformat": 4,
 "nbformat_minor": 2
}
