{
 "cells": [
  {
   "cell_type": "markdown",
   "metadata": {},
   "source": [
    "# ML8 数据集的批量迭代器\n",
    "\n",
    "## 描述\n",
    "实现一个批量迭代器函数，用于将数据集分批处理。这在深度学习中特别有用，可以控制内存使用并实现小批量梯度下降等算法。\n",
    "\n",
    "\n",
    "## 输入描述：\n",
    "函数`batch_iterator`接收三个参数：\n",
    "1. X：特征数据，numpy数组\n",
    "2. y：标签数据（可选），numpy数组\n",
    "3. batch_size：批量大小，正整数，默认64\n",
    "\n",
    "## 输出描述：\n",
    "返回一个列表，包含所有批次：\n",
    "- 如果只有X，每个批次是X的子数组\n",
    "- 如果有y，每个批次是[X子数组, y子数组]的列表\n",
    "- 最后一个批次可能小于batch_size"
   ]
  },
  {
   "cell_type": "code",
   "execution_count": null,
   "metadata": {},
   "outputs": [],
   "source": [
    "from heapq import nsmallest\n",
    "import numpy as np\n",
    "\n",
    "def batch_iterator(X, y=None, batch_size=64):\n",
    "    n_samples = X.shape[0]\n",
    "    batches = []\n",
    "    for i in np.arange(0, n_samples, batch_size):\n",
    "        begin, end = i, min(i+batch_size, n_samples)\n",
    "        if y is not None:\n",
    "            batches.append([X[begin:end], y[begin:end]])\n",
    "        else:\n",
    "            batches.append(X[begin:end])\n",
    "    return batches\n",
    "    \n",
    "if __name__ == \"__main__\":\n",
    "    X = np.array(eval(input()))\n",
    "    y = np.array(eval(input()))\n",
    "    batch_size = int(input())\n",
    "    print(batch_iterator(X, y, batch_size))\n",
    "\n"
   ]
  }
 ],
 "metadata": {
  "language_info": {
   "name": "python"
  }
 },
 "nbformat": 4,
 "nbformat_minor": 2
}
