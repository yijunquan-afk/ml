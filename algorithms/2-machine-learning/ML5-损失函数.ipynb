{
 "cells": [
  {
   "cell_type": "markdown",
   "metadata": {},
   "source": [
    "# ML5 损失函数\n",
    "\n",
    "## 描述\n",
    "损失函数是机器学习和统计学中用于评估模型预测性能的重要工具。它们通过量化预测值与真实值之间的差异，帮助我们了解模型的准确性和可靠性。\n",
    "1. 均方误差（MSE）：用于回归问题，计算预测值与真实值之间的平方差的平均值。MSE对较大的误差更加敏感，因此适合于需要惩罚大误差的场景。\n",
    "2. 平均绝对误差（MAE）：同样用于回归问题，计算预测值与真实值之间的绝对差的平均值。MAE对异常值的敏感性较低，适合于对所有误差一视同仁的情况。\n",
    "3. Huber损失：结合了MSE和MAE的优点，当误差小于某个阈值时使用MSE，超过该阈值时使用MAE。这使得Huber损失在处理异常值时更加灵活。\n",
    "4. 余弦损失：用于向量比较，计算真实值与预测值之间的余弦相似度损失。适合于文本分类和推荐系统等需要比较向量相似度的场景。\n",
    "请编写程序计算以上几种损失函数\n",
    "\n",
    "## 输入描述：\n",
    "输入的第一行是一个整数n，表示数据的个数。\n",
    "接下来的n行每行输入两个浮点数，用空格分隔，表示真实值和预测值。\n",
    "最后一行一个浮点数，表示huber的阈值\n",
    "\n",
    "## 输出描述：\n",
    "输出每种损失函数的值，保留6位小数。\n",
    "\n",
    "\n",
    "```\n",
    "输入：\n",
    "6\n",
    "400.13334197575455 415.02721871414985\n",
    "687.2053458075301 688.3979024507972\n",
    "669.1075413706716 633.0309221426394\n",
    "493.4466258517276 536.0263490616016\n",
    "730.2711663241887 728.9471236043929\n",
    "434.3319648437725 401.8774016025876\n",
    "19.718972980653863\n",
    "输出：\n",
    "732.142801\n",
    "21.420230\n",
    "376.781515\n",
    "0.001068\n",
    "```\n"
   ]
  },
  {
   "cell_type": "code",
   "execution_count": null,
   "metadata": {},
   "outputs": [],
   "source": [
    "import numpy as np\n",
    "def calculate_loss(real_values, predicted_values,delta):\n",
    "    mse = np.mean((real_values - predicted_values) ** 2)\n",
    "    mae =  np.mean(np.abs(real_values - predicted_values))\n",
    "    huber_loss = np.where(np.abs(real_values - predicted_values) <= delta, mse, mae)\n",
    "    cosine_loss = 1 - np.dot(real_values, predicted_values) / (np.linalg.norm(real_values) * np.linalg.norm(predicted_values))\n",
    "    return round(mse, 6), round(mae, 6), round(np.mean(huber_loss), 6), round(cosine_loss, 6)\n",
    "    \n",
    "\n",
    "# 从标准输入读取数据\n",
    "n = int(input())\n",
    "real_values = []\n",
    "predicted_values = []\n",
    "\n",
    "for _ in range(n):\n",
    "    real, predicted = map(float, input().split())\n",
    "    real_values.append(real)\n",
    "    predicted_values.append(predicted)\n",
    "\n",
    "delta = float(input())  # 读取阈值\n",
    "\n",
    "# 调用计算损失函数的函数\n",
    "results = calculate_loss(np.array(real_values), np.array(predicted_values), delta)\n",
    "# 输出结果\n",
    "for value in results:\n",
    "    print(f\"{value:.6f}\")\n"
   ]
  },
  {
   "cell_type": "markdown",
   "metadata": {},
   "source": [
    "1. 均方误差（MSE）：用于回归问题，计算预测值与真实值之间的平方差的平均值。MSE对较大的误差更加敏感，因此适合于需要惩罚大误差的场景。\n",
    "   $$\n",
    "   MSE = \\frac{1}{n} \\sum_{i=1}^{n} (y_i - \\hat{y}_i)^2\n",
    "   $$\n",
    "\n",
    "2. 平均绝对误差（MAE）：同样用于回归问题，计算预测值与真实值之间的绝对差的平均值。MAE对异常值的敏感性较低，适合于对所有误差一视同仁的情况。\n",
    "   $$\n",
    "   MAE = \\frac{1}{n} \\sum_{i=1}^{n} |y_i - \\hat{y}_i|\n",
    "   $$\n",
    "\n",
    "3. Huber损失：结合了MSE和MAE的优点，当误差小于某个阈值时使用MSE，超过该阈值时使用MAE。这使得Huber损失在处理异常值时更加灵活。\n",
    "   $$\n",
    "   L_{\\delta}(y, \\hat{y}) = \n",
    "   \\begin{cases} \n",
    "   \\frac{1}{2}(y - \\hat{y})^2 & \\text{if } |y - \\hat{y}| \\leq \\delta \\\\\n",
    "   \\delta \\cdot (|y - \\hat{y}| - \\frac{1}{2}\\delta) & \\text{otherwise}\n",
    "   \\end{cases}\n",
    "   $$\n",
    "\n",
    "4. 余弦损失：用于向量比较，计算真实值与预测值之间的余弦相似度损失。适合于文本分类和推荐系统等需要比较向量相似度的场景。\n",
    "   $$\n",
    "   Cosine\\ Loss = 1 - \\frac{y \\cdot \\hat{y}}{\\|y\\| \\cdot \\|\\hat{y}\\|}\n",
    "   $$"
   ]
  },
  {
   "cell_type": "markdown",
   "metadata": {},
   "source": []
  }
 ],
 "metadata": {
  "kernelspec": {
   "display_name": "tx-rca",
   "language": "python",
   "name": "python3"
  },
  "language_info": {
   "codemirror_mode": {
    "name": "ipython",
    "version": 3
   },
   "file_extension": ".py",
   "mimetype": "text/x-python",
   "name": "python",
   "nbconvert_exporter": "python",
   "pygments_lexer": "ipython3",
   "version": "3.10.14"
  }
 },
 "nbformat": 4,
 "nbformat_minor": 2
}
