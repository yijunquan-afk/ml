{
 "cells": [
  {
   "cell_type": "markdown",
   "metadata": {},
   "source": [
    "# ML3 特征扩展实现\n",
    "\n",
    "## 描述\n",
    "编写一个 Python 函数，使用标准化和最小最大标准化对数据集执行特征缩放。\n",
    "该函数应采用 2维 NumPy 数组作为输入，其中每行代表一个数据样本，每列代表一个特征。返回两个 2维 NumPy 数组 数组：一个通过标准化缩放，一个通过最小-最大标准化缩放。\n",
    "输出结果均四舍五入保留小数点后后四位。\n",
    "\n",
    "## 输入描述：\n",
    "输入一个 2维 NumPy 数组\n",
    "## 输出描述：\n",
    "返回两个 2维 List 数组：一个通过标准化缩放，一个通过最小-最大标准化缩放。\n",
    "\n",
    "```\n",
    "输入：\n",
    "[[7, 13], [22, 8], [15, 29]]\n",
    "输出：\n",
    "([[-1.251, -0.4094], [1.1966, -0.9676], [0.0544, 1.377]], [[0.0, 0.2381], [1.0, 0.0], [0.5333, 1.0]])\n",
    "```"
   ]
  },
  {
   "cell_type": "code",
   "execution_count": 7,
   "metadata": {},
   "outputs": [
    {
     "name": "stdout",
     "output_type": "stream",
     "text": [
      "([[-1.251, -0.4094], [1.1966, -0.9676], [0.0544, 1.377]], [[0.0, 0.2381], [1.0, 0.0], [0.5333, 1.0]])\n"
     ]
    }
   ],
   "source": [
    "\n",
    "import numpy as np\n",
    "\n",
    "def feature_scaling(data):\n",
    "    data_arr = np.array(data)\n",
    "    standard_result = (data_arr - np.mean(data_arr, axis=0))/np.std(data_arr, axis=0)\n",
    "    max_min_result = (data_arr - np.min(data_arr, axis=0))/(np.max(data_arr, axis=0) - np.min(data_arr, axis=0))\n",
    "    return (np.round(standard_result,4).tolist(), np.round(max_min_result,4).tolist())\n",
    "\n",
    "# 主程序\n",
    "if __name__ == \"__main__\":\n",
    "    # 输入数组\n",
    "    data = input()\n",
    "\n",
    "    # 处理输入\n",
    "    import ast\n",
    "    data = ast.literal_eval(data)\n",
    "\n",
    "    # 调用函数计算\n",
    "    output = feature_scaling(data)\n",
    "    \n",
    "    # 输出结果\n",
    "    print(output)\n"
   ]
  }
 ],
 "metadata": {
  "kernelspec": {
   "display_name": "tx-rca",
   "language": "python",
   "name": "python3"
  },
  "language_info": {
   "codemirror_mode": {
    "name": "ipython",
    "version": 3
   },
   "file_extension": ".py",
   "mimetype": "text/x-python",
   "name": "python",
   "nbconvert_exporter": "python",
   "pygments_lexer": "ipython3",
   "version": "3.10.14"
  }
 },
 "nbformat": 4,
 "nbformat_minor": 2
}
