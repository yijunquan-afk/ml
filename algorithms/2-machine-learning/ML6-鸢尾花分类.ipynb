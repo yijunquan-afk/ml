{
 "cells": [
  {
   "cell_type": "markdown",
   "metadata": {},
   "source": [
    "# ML6 鸢尾花分类\n",
    "\n",
    "## 描述\n",
    "鸢尾花（Iris）数据集是一个经典的机器学习数据集，包含三种鸢尾花的特征和标签。\n",
    "数据集包含150个样本，每个样本有4个特征：\n",
    "花萼长度（sepal length）\n",
    "花萼宽度（sepal width）\n",
    "花瓣长度（petal length）\n",
    "花瓣宽度（petal width）\n",
    "标签有三种：\n",
    "Iris-setosa\n",
    "Iris-versicolor\n",
    "Iris-virginica\n",
    "你的任务是用sklearn的LogisticsRegression模型对鸢尾花类别进行预测，模型请指定参数max_iter=200以减少训练用时。\n",
    "1.读入数据集\n",
    "2.对数据集进行一次随机洗牌\n",
    "3.数据分成训练集与测试集\n",
    "\n",
    "## 输入描述：\n",
    "输入一个整数n，表示测试样本的数量，直接截取最后数据集的最后n个作为测试集。\n",
    "鸢尾花数据集请用sklearn库中的load_iris()函数加载\n",
    "\n",
    "## 输出描述：\n",
    "输出n行，每行包含两个数据，用空格分隔，第一个数据是预测类别，第二个数据是最大概率\n",
    "概率保留两位小数\n",
    "\n",
    "```\n",
    "输入：\n",
    "3\n",
    "输出：\n",
    "virginica 0.60\n",
    "setosa 0.99\n",
    "setosa 0.98\n",
    "```\n",
    "\n",
    "鸢尾花分类在机器学习中是经典的分类问题，通常被初学者用来学习分类算法。\n",
    "\n",
    "鸢尾花数据集包含150个样本，每个样本有4个特征：花萼长度、花萼宽度、花瓣长度和花瓣宽度。该数据集用于分类任务，标签分为三类：Iris-setosa、Iris-versicolor和Iris-virginica。\n",
    "\n",
    "逻辑回归是一种常用的分类算法，用于解决二分类问题。它通过计算输入特征的线性组合，并应用一个sigmoid函数来输出概率。 鸢尾花分类其实是多分类，但是为了简化算法与实现，我们使用逻辑回归算法进行训练，并输出每个测试样本的预测类别及其最大概率。并且为了简化算法与实现，我们使用sklearn库中的LogisticRegression类进行实现，并且为了防止过拟合以及加快收敛速度，我们设置max_iter=200。\n",
    "\n"
   ]
  },
  {
   "cell_type": "code",
   "execution_count": 1,
   "metadata": {},
   "outputs": [
    {
     "name": "stdout",
     "output_type": "stream",
     "text": [
      "virginica 0.60\n",
      "setosa 0.99\n",
      "setosa 0.98\n"
     ]
    }
   ],
   "source": [
    "from sklearn.datasets import load_iris\n",
    "from sklearn.linear_model import LogisticRegression\n",
    "import numpy as np\n",
    "import random \n",
    "\n",
    "iris = load_iris()\n",
    "X = iris.data\n",
    "y = iris.target\n",
    "\n",
    "n = int(input())\n",
    "\n",
    "random.seed(42)\n",
    "indices=list(range(len(X)))\n",
    "random.shuffle(indices)\n",
    "X = X[indices]\n",
    "y = y[indices]\n",
    "X_train = X[:-n]\n",
    "X_test = X[-n:]\n",
    "y_train = y[:-n]\n",
    "y_test = y[-n:]\n",
    "model = LogisticRegression(max_iter = 200)\n",
    "model.fit(X_train, y_train)\n",
    "\n",
    "y_pred = model.predict(X_test)\n",
    "y_prob = model.predict_proba(X_test)\n",
    "for i in range(len(y_pred)):\n",
    "    print(f'{iris.target_names[y_pred[i]]} {np.max(y_prob[i]):.2f}')"
   ]
  },
  {
   "cell_type": "markdown",
   "metadata": {},
   "source": [
    "鸢尾花分类在机器学习中是经典的分类问题，通常被初学者用来学习分类算法。\n",
    "\n",
    "鸢尾花数据集包含150个样本，每个样本有4个特征：花萼长度、花萼宽度、花瓣长度和花瓣宽度。该数据集用于分类任务，标签分为三类：Iris-setosa、Iris-versicolor和Iris-virginica。\n",
    "\n",
    "逻辑回归是一种常用的分类算法，用于解决二分类问题。它通过计算输入特征的线性组合，并应用一个sigmoid函数来输出概率。 鸢尾花分类其实是多分类，但是为了简化算法与实现，我们使用逻辑回归算法进行训练，并输出每个测试样本的预测类别及其最大概率。并且为了简化算法与实现，我们使用sklearn库中的LogisticRegression类进行实现，并且为了防止过拟合以及加快收敛速度，我们设置max_iter=200。\n",
    "\n"
   ]
  }
 ],
 "metadata": {
  "kernelspec": {
   "display_name": "tx-rca",
   "language": "python",
   "name": "python3"
  },
  "language_info": {
   "codemirror_mode": {
    "name": "ipython",
    "version": 3
   },
   "file_extension": ".py",
   "mimetype": "text/x-python",
   "name": "python",
   "nbconvert_exporter": "python",
   "pygments_lexer": "ipython3",
   "version": "3.10.14"
  }
 },
 "nbformat": 4,
 "nbformat_minor": 2
}
