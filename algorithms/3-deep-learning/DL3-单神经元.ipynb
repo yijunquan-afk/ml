{
 "cells": [
  {
   "cell_type": "markdown",
   "metadata": {},
   "source": [
    "## DL3 单神经元\n",
    "\n",
    "## 描述\n",
    "\n",
    "实现一个单神经元的前向传播函数，使用sigmoid激活函数进行二分类预测。这是深度学习中最基本的神经网络单元。\n",
    " \n",
    "## 输入描述：\n",
    "函数接收4个参数：\n",
    "1. features：二维列表，每行是一个样本的特征向量\n",
    "2. labels：一维列表，包含对应的二分类标签（0或1）\n",
    "3. weights：一维列表，权重向量\n",
    "4. bias：浮点数，偏置值\n",
    "\n",
    "## 输出描述：\n",
    "返回一个元组，包含两个元素：\n",
    "1. 预测概率列表：每个样本通过sigmoid函数后的预测概率（保留4位小数）\n",
    "2. MSE值：预测概率与真实标签之间的均方误差（保留4位小数）\n"
   ]
  },
  {
   "cell_type": "code",
   "execution_count": null,
   "metadata": {},
   "outputs": [],
   "source": [
    "import math\n",
    "import numpy as np\n",
    "def single_neuron_model(features, labels, weights, bias):\n",
    "    weights = weights.reshape(-1, 1)\n",
    "    labels = labels.reshape(-1,1)\n",
    "    z = features@weights+bias\n",
    "    prob = 1/(1+np.exp(-z))\n",
    "    probabilities = np.round(1/(1+np.exp(-z)),4).flatten().tolist()\n",
    "    mse = np.round(np.sum((prob-labels)**2)/len(features),4)\n",
    "    return probabilities, mse\n",
    "\n",
    "\n",
    "if __name__ == \"__main__\":\n",
    "    features = np.array(eval(input()))\n",
    "    labels = np.array(eval(input()))\n",
    "    weights = np.array(eval(input()))\n",
    "    bias = float(input())\n",
    "    print(single_neuron_model(features, labels, weights, bias))\n"
   ]
  }
 ],
 "metadata": {
  "language_info": {
   "name": "python"
  }
 },
 "nbformat": 4,
 "nbformat_minor": 2
}
