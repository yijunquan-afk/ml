{
 "cells": [
  {
   "cell_type": "markdown",
   "metadata": {},
   "source": [
    "# DL1 Sigmoid 激活函数实现\n",
    "\n",
    "## 描述\n",
    "实现sigmoid激活函数，这是神经网络中最常用的激活函数之一。Sigmoid函数将任意实数映射到(0,1)区间，常用于神经网络的二分类问题。\n",
    "\n",
    "## 输入描述：\n",
    "一个浮点数z，表示需要计算sigmoid值的输入。\n",
    "\n",
    "## 输出描述：\n",
    "返回一个浮点数，表示sigmoid函数的计算结果，结果保留4位小数。"
   ]
  },
  {
   "cell_type": "code",
   "execution_count": null,
   "metadata": {},
   "outputs": [],
   "source": [
    "import math\n",
    "\n",
    "def sigmoid(z: float) -> float:\n",
    "   result = 1/(1+math.exp(-z))\n",
    "   return round(result, 4)\n",
    "\n",
    "if __name__ == \"__main__\":\n",
    "    z = float(input())\n",
    "    print(f\"{sigmoid(z):.4f}\")"
   ]
  }
 ],
 "metadata": {
  "language_info": {
   "name": "python"
  }
 },
 "nbformat": 4,
 "nbformat_minor": 2
}
