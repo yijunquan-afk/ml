{
 "cells": [
  {
   "cell_type": "markdown",
   "metadata": {},
   "source": [
    "# DL6 Leaky ReLU 激活函数\n",
    "\n",
    "## 描述\n",
    "实现Leaky ReLU（带泄漏的线性整流单元）激活函数。Leaky ReLU是ReLU的一个变体，它在输入为负时，不会完全将输出置为零，而是保留一个很小的斜率。\n",
    "\n",
    "## 输入描述：\n",
    "第一行输入输入值，第二行输入负数部分的斜率。\n",
    "\n",
    "## 输出描述：\n",
    "返回一个数值，表示经过Leaky ReLU激活函数处理后的结果。\n",
    "\n"
   ]
  },
  {
   "cell_type": "code",
   "execution_count": null,
   "metadata": {},
   "outputs": [],
   "source": [
    "import numpy as np\n",
    "\n",
    "def leaky_relu(z, alpha = 0.01):\n",
    "    return z if z >= 0 else z * alpha\n",
    "\n",
    "\n",
    "if __name__ == \"__main__\":\n",
    "    z = eval(input())\n",
    "    alpha = eval(input())\n",
    "    print(leaky_relu(z, alpha))\n"
   ]
  }
 ],
 "metadata": {
  "language_info": {
   "name": "python"
  }
 },
 "nbformat": 4,
 "nbformat_minor": 2
}
