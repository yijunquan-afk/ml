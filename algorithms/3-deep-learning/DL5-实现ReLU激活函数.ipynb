{
 "cells": [
  {
   "cell_type": "markdown",
   "metadata": {},
   "source": [
    "# DL5 实现ReLU激活函数\n",
    "## 描述\n",
    "实现ReLU（Rectified Linear Unit，线性整流单元）激活函数。ReLU是深度学习中最常用的激活函数之一，它对正数保持不变，对负数则输出零。\n",
    "## 输入描述：\n",
    "第一行输入一个浮点数，表示输入值。\n",
    "## 输出描述：\n",
    "返回一个浮点数，表示经过ReLU激活函数处理后的结果。"
   ]
  },
  {
   "cell_type": "code",
   "execution_count": 1,
   "metadata": {},
   "outputs": [
    {
     "name": "stdout",
     "output_type": "stream",
     "text": [
      "9\n"
     ]
    }
   ],
   "source": [
    "def relu(z: float) -> float:\n",
    "    return z if z > 0 else 0\n",
    "\n",
    "\n",
    "if __name__ == \"__main__\":\n",
    "    z = eval(input())\n",
    "    print(relu(z))"
   ]
  }
 ],
 "metadata": {
  "kernelspec": {
   "display_name": "tx-rca",
   "language": "python",
   "name": "python3"
  },
  "language_info": {
   "codemirror_mode": {
    "name": "ipython",
    "version": 3
   },
   "file_extension": ".py",
   "mimetype": "text/x-python",
   "name": "python",
   "nbconvert_exporter": "python",
   "pygments_lexer": "ipython3",
   "version": "3.10.14"
  }
 },
 "nbformat": 4,
 "nbformat_minor": 2
}
