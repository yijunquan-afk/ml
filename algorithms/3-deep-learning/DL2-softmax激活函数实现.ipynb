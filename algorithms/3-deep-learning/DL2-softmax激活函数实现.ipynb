{
 "cells": [
  {
   "cell_type": "markdown",
   "metadata": {},
   "source": [
    "# DL2 softmax激活函数实现\n",
    "## 描述\n",
    "实现softmax激活函数，该函数将一组数值转换为概率分布。Softmax函数常用于神经网络的多分类问题中，它将任意实数值转换为(0,1)区间内的实数，并且转换后所有值的和为1。\n",
    "\n",
    "## 输入描述：\n",
    "输入一个浮点数列表，表示需要进行softmax转换的原始分数\n",
    "\n",
    "## 输出描述：\n",
    "返回一个浮点数列表，表示softmax转换后的概率分布。结果保留四位小数。"
   ]
  },
  {
   "cell_type": "code",
   "execution_count": null,
   "metadata": {},
   "outputs": [],
   "source": [
    "import numpy as np\n",
    "import math\n",
    "\n",
    "\n",
    "def softmax(scores: list[float]) -> list[float]:\n",
    "    probabilities = np.round(np.exp(scores)/np.sum(np.exp(scores)),4)\n",
    "    return probabilities.tolist()\n",
    "\n",
    "if __name__ == \"__main__\":\n",
    "    scores = np.array(eval(input()))\n",
    "    print(softmax(scores))\n"
   ]
  }
 ],
 "metadata": {
  "language_info": {
   "name": "python"
  }
 },
 "nbformat": 4,
 "nbformat_minor": 2
}
