{
 "cells": [
  {
   "cell_type": "markdown",
   "metadata": {},
   "source": [
    "# DL7 两个正态分布之间的KL散度\n",
    "## 描述\n",
    "实现一个函数来计算两个正态分布之间的KL散度（Kullback-Leibler divergence）。KL散度是衡量两个概率分布差异的非对称度量。\n",
    "输入描述：\n",
    "第一行输入四个浮点数，分别表示分布P的均值、标准差、分布Q的均值、标准差。\n",
    "\n",
    "## 输出描述：\n",
    "返回一个浮点数，表示两个正态分布之间的KL散度。"
   ]
  },
  {
   "cell_type": "markdown",
   "metadata": {},
   "source": [
    "两个正态分布之间的KL散度（Kullback–Leibler Divergence）是一种衡量两个分布之间差异的指标，其计算公式为：\n",
    "\n",
    "$$\n",
    "KL(p||q) = \\int p(x) \\log \\frac{p(x)}{q(x)} dx\n",
    "$$\n",
    "\n",
    "其中，$p(x)$和$q(x)$分别是两个正态分布的概率密度函数。但是本题中，使用的计算公式是：\n",
    "\n",
    "对于两个正态分布 $p(x) = N(\\mu_p, \\sigma_p^2)$ 和 $q(x) = N(\\mu_q, \\sigma_q^2)$，它们之间的KL散度可以表示为：\n",
    "\n",
    "$$\n",
    "KL(p||q) = \\ln \\frac{\\sigma_q}{\\sigma_p} \\frac{\\sigma_p^2 (\\mu_p - \\mu_q)^2}{2 \\sigma_q^2} - \\frac{1}{2}\n",
    "$$"
   ]
  },
  {
   "cell_type": "code",
   "execution_count": null,
   "metadata": {},
   "outputs": [],
   "source": []
  }
 ],
 "metadata": {
  "language_info": {
   "name": "python"
  }
 },
 "nbformat": 4,
 "nbformat_minor": 2
}
